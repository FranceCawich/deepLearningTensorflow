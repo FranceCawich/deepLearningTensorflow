{
 "cells": [
  {
   "cell_type": "markdown",
   "metadata": {},
   "source": [
    "# Perceptrón: Caso práctico I"
   ]
  },
  {
   "cell_type": "markdown",
   "metadata": {},
   "source": [
    "## Dataset"
   ]
  },
  {
   "cell_type": "markdown",
   "metadata": {},
   "source": [
    "El conjunto de datos flor Iris o conjunto de datos iris de Fisher es un conjunto de datos multivariante introducido por Ronald Fisher en su artículo de 1936, _The use of multiple measurements in taxonomic problems_ (El uso de medidas múltiples en problemas taxonómicos) como un ejemplo de análisis discriminante lineal. A veces, se llama Iris conjunto de datos de Anderson porque Edgar Anderson coleccionó los datos para cuantificar la variación morfológica de la flor Iris de tres especies relacionadas. Dos de las tres especies se coleccionaron en la Península de la Gaspesia «todos son de la misma pastura, y recolectado el mismo día y medidos al mismo tiempo por la misma persona con el mismo aparato».\n",
    "\n",
    "El conjunto de datos contiene 50 muestras de cada una de tres especies de Iris (Iris setosa, Iris virginica e Iris versicolor). Se midió cuatro rasgos de cada muestra: el largo y ancho del sépalo y pétalo, en centímetros. Basado en la combinación de estos cuatro rasgos, Fisher desarrolló un modelo discriminante lineal para distinguir entre una especie y otra."
   ]
  },
  {
   "cell_type": "markdown",
   "metadata": {},
   "source": [
    "## Enunciado"
   ]
  },
  {
   "cell_type": "markdown",
   "metadata": {},
   "source": [
    "En este ejercicio vamos utilizar el conjunto de datos Iris para evaluar el funcionamiento del perceptrón y visualizar las capacidades que nos proporciona a la hora de clasificar diferentes categorías dentro de un conjunto de datos."
   ]
  },
  {
   "cell_type": "markdown",
   "metadata": {},
   "source": [
    "## 1. Lectura del conjunto de datos"
   ]
  },
  {
   "cell_type": "code",
   "execution_count": null,
   "metadata": {},
   "outputs": [],
   "source": [
    "from sklearn.datasets import load_iris"
   ]
  },
  {
   "cell_type": "code",
   "execution_count": null,
   "metadata": {},
   "outputs": [],
   "source": [
    "# Cargamos el conjunto de datos\n",
    "iris_dataset = load_iris()"
   ]
  },
  {
   "cell_type": "code",
   "execution_count": null,
   "metadata": {},
   "outputs": [],
   "source": [
    "# Visualizamos las etiquetas del conjunto de datos\n",
    "iris_dataset.target_names"
   ]
  },
  {
   "cell_type": "code",
   "execution_count": null,
   "metadata": {},
   "outputs": [],
   "source": [
    "iris_dataset.data"
   ]
  },
  {
   "cell_type": "code",
   "execution_count": null,
   "metadata": {},
   "outputs": [],
   "source": [
    "# Leemos el conjunto de datos con la libreria Pandas\n",
    "import pandas as pd\n",
    "import numpy as np\n",
    "\n",
    "df = pd.DataFrame(np.c_[iris_dataset['data'], iris_dataset['target']], \n",
    "                  columns= iris_dataset['feature_names'] + ['target'])\n",
    "df"
   ]
  },
  {
   "cell_type": "markdown",
   "metadata": {},
   "source": [
    "## 2. Visualización del conjunto de datos"
   ]
  },
  {
   "cell_type": "code",
   "execution_count": null,
   "metadata": {},
   "outputs": [],
   "source": [
    "# Representacion grafica de dos dimensiones del conjunto de datos\n",
    "import matplotlib.pyplot as plt\n",
    "\n",
    "fig = plt.figure(figsize=(10, 7))\n",
    "\n",
    "plt.scatter(df[\"petal length (cm)\"][df[\"target\"] == 0], \n",
    "            df[\"petal width (cm)\"][df[\"target\"] == 0], c=\"b\", label=\"setosa\")\n",
    "\n",
    "plt.scatter(df[\"petal length (cm)\"][df[\"target\"] == 1], \n",
    "            df[\"petal width (cm)\"][df[\"target\"] == 1], c=\"r\", label=\"versicolor\")\n",
    "\n",
    "plt.xlabel(\"petal_length\", fontsize=14)\n",
    "plt.ylabel(\"petal_width\", fontsize=14)\n",
    "plt.legend(loc=\"lower right\", fontsize=14)\n",
    "\n",
    "plt.show()"
   ]
  },
  {
   "cell_type": "code",
   "execution_count": null,
   "metadata": {},
   "outputs": [],
   "source": [
    "# Representacion grafica de tres dimensiones del conjunto de datos\n",
    "import matplotlib.pyplot as plt\n",
    "from mpl_toolkits import mplot3d\n",
    "\n",
    "fig = plt.figure(figsize=(10, 7))\n",
    "ax = plt.axes(projection=\"3d\")\n",
    "\n",
    "ax.scatter3D(df[\"petal length (cm)\"][df[\"target\"] == 0], \n",
    "            df[\"petal width (cm)\"][df[\"target\"] == 0], \n",
    "            df[\"sepal width (cm)\"][df[\"target\"] == 0], c=\"b\")\n",
    "\n",
    "ax.scatter3D(df[\"petal length (cm)\"][df[\"target\"] == 1], \n",
    "            df[\"petal width (cm)\"][df[\"target\"] == 1], \n",
    "            df[\"sepal width (cm)\"][df[\"target\"] == 1], c=\"r\")\n",
    "\n",
    "ax.set_xlabel(\"petal_length\")\n",
    "ax.set_ylabel(\"petal_width\")\n",
    "ax.set_zlabel(\"sepal_width\")\n",
    "\n",
    "\n",
    "plt.show()"
   ]
  },
  {
   "cell_type": "code",
   "execution_count": null,
   "metadata": {},
   "outputs": [],
   "source": [
    "# Representacion grafica de tres dimensiones del conjunto de datos\n",
    "import matplotlib.pyplot as plt\n",
    "from mpl_toolkits import mplot3d\n",
    "\n",
    "fig = plt.figure(figsize=(10, 7))\n",
    "ax = plt.axes(projection=\"3d\")\n",
    "\n",
    "ax.scatter3D(df[\"petal length (cm)\"][df[\"target\"] == 0], \n",
    "            df[\"petal width (cm)\"][df[\"target\"] == 0], \n",
    "            df[\"sepal width (cm)\"][df[\"target\"] == 0], c=\"b\")\n",
    "\n",
    "ax.scatter3D(df[\"petal length (cm)\"][df[\"target\"] == 1], \n",
    "            df[\"petal width (cm)\"][df[\"target\"] == 1], \n",
    "            df[\"sepal width (cm)\"][df[\"target\"] == 1], c=\"r\")\n",
    "\n",
    "ax.scatter3D(df[\"petal length (cm)\"][df[\"target\"] == 2], \n",
    "            df[\"petal width (cm)\"][df[\"target\"] == 2], \n",
    "            df[\"sepal width (cm)\"][df[\"target\"] == 2], c=\"y\")\n",
    "\n",
    "ax.set_xlabel(\"petal_length\")\n",
    "ax.set_ylabel(\"petal_width\")\n",
    "ax.set_zlabel(\"sepal_width\")\n",
    "\n",
    "plt.show()"
   ]
  },
  {
   "cell_type": "markdown",
   "metadata": {},
   "source": [
    "## 3. Entrenamiento del algoritmo"
   ]
  },
  {
   "cell_type": "code",
   "execution_count": null,
   "metadata": {},
   "outputs": [],
   "source": [
    "# Reducimos el conjunto de datos para entrenar el algoritmo y visualizar el resultado\n",
    "df_reduced = df[[\"petal length (cm)\", \"petal width (cm)\", \"target\"]]\n",
    "df_reduced = df_reduced.loc[df_reduced[\"target\"].isin([0, 1])]\n",
    "df_reduced"
   ]
  },
  {
   "cell_type": "code",
   "execution_count": null,
   "metadata": {},
   "outputs": [],
   "source": [
    "# Separamos las etiquetas de salida del resto de caracteristicas del conjunto de datos\n",
    "X_df = df_reduced[[\"petal length (cm)\", \"petal width (cm)\"]]\n",
    "y_df = df_reduced[\"target\"]"
   ]
  },
  {
   "cell_type": "code",
   "execution_count": null,
   "metadata": {},
   "outputs": [],
   "source": [
    "# Visualizamos el conjunto de datos de entrenamiento reducido\n",
    "X_df.plot.scatter(\"petal length (cm)\", \"petal width (cm)\")\n",
    "plt.show()"
   ]
  },
  {
   "cell_type": "code",
   "execution_count": null,
   "metadata": {},
   "outputs": [],
   "source": [
    "y_df"
   ]
  },
  {
   "cell_type": "code",
   "execution_count": null,
   "metadata": {},
   "outputs": [],
   "source": [
    "from sklearn.linear_model import Perceptron\n",
    "\n",
    "clf = Perceptron(max_iter=1000, random_state=40)\n",
    "clf.fit(X_df, y_df)"
   ]
  },
  {
   "cell_type": "markdown",
   "metadata": {},
   "source": [
    "## Visualizacion del limite de decision construido por el algoritmo"
   ]
  },
  {
   "cell_type": "code",
   "execution_count": null,
   "metadata": {},
   "outputs": [],
   "source": [
    "# z(x) = x1*w1 + x2*w2 + b = x1*0.9 + x2*1.3 + (-3)"
   ]
  },
  {
   "cell_type": "code",
   "execution_count": null,
   "metadata": {},
   "outputs": [],
   "source": [
    "# Parametros del modelo\n",
    "clf.coef_"
   ]
  },
  {
   "cell_type": "code",
   "execution_count": null,
   "metadata": {},
   "outputs": [],
   "source": [
    "# Terminio de interceptacion\n",
    "clf.intercept_"
   ]
  },
  {
   "cell_type": "code",
   "execution_count": null,
   "metadata": {},
   "outputs": [],
   "source": [
    "# Representacion grafica del limite de decision\n",
    "import numpy as np\n",
    "\n",
    "X = X_df.values\n",
    "\n",
    "mins = X.min(axis=0) - 0.1\n",
    "maxs = X.max(axis=0) + 0.1\n",
    "\n",
    "xx, yy = np.meshgrid(np.linspace(mins[0], maxs[0], 1000),\n",
    "                    np.linspace(mins[1], maxs[1], 1000))\n",
    "\n",
    "Z = clf.predict(np.c_[xx.ravel(), yy.ravel()])\n",
    "Z = Z.reshape(xx.shape)\n",
    "\n",
    "fig = plt.figure(figsize=(10, 7))\n",
    "\n",
    "plt.contourf(xx, yy, Z, cmap=\"Set3\")\n",
    "plt.contour(Z, extent=(mins[0], maxs[0], mins[1], maxs[1]), linewidths=1, colors='k')\n",
    "\n",
    "plt.plot(X[:, 0][y_df==0], X[:, 1][y_df==0], 'bs', label=\"setosa\")\n",
    "plt.plot(X[:, 0][y_df==1], X[:, 1][y_df==1], 'go', label=\"vesicolor\")\n",
    "\n",
    "plt.xlabel(\"petal_length\", fontsize=14)\n",
    "plt.ylabel(\"petal_width\", fontsize=14)\n",
    "plt.legend(loc=\"lower right\", fontsize=14)\n",
    "\n",
    "plt.show()"
   ]
  },
  {
   "cell_type": "code",
   "execution_count": null,
   "metadata": {},
   "outputs": [],
   "source": [
    "from sklearn.linear_model import Perceptron\n",
    "\n",
    "clf = Perceptron(max_iter=1000, random_state=40)\n",
    "clf.fit(X_df, y_df)"
   ]
  },
  {
   "cell_type": "code",
   "execution_count": null,
   "metadata": {},
   "outputs": [],
   "source": [
    "y_pred = clf.predict(X_df)"
   ]
  },
  {
   "cell_type": "code",
   "execution_count": null,
   "metadata": {},
   "outputs": [],
   "source": [
    "from sklearn.metrics import accuracy_score"
   ]
  },
  {
   "cell_type": "code",
   "execution_count": null,
   "metadata": {},
   "outputs": [],
   "source": [
    "accuracy_score(y_df, y_pred)"
   ]
  },
  {
   "cell_type": "code",
   "execution_count": null,
   "metadata": {},
   "outputs": [],
   "source": []
  }
 ],
 "metadata": {
  "kernelspec": {
   "display_name": "Python 3",
   "language": "python",
   "name": "python3"
  },
  "language_info": {
   "codemirror_mode": {
    "name": "ipython",
    "version": 3
   },
   "file_extension": ".py",
   "mimetype": "text/x-python",
   "name": "python",
   "nbconvert_exporter": "python",
   "pygments_lexer": "ipython3",
   "version": "3.8.5"
  }
 },
 "nbformat": 4,
 "nbformat_minor": 4
}
